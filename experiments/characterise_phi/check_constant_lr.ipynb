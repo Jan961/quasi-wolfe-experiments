{
 "cells": [
  {
   "cell_type": "code",
   "execution_count": 1,
   "metadata": {
    "collapsed": true
   },
   "outputs": [],
   "source": [
    "from math import factorial\n",
    "import numpy as np\n",
    "from itertools import combinations_with_replacement\n",
    "import time\n",
    "from grad_descent import grad_descent\n",
    "from function_generation.PolynomialGenerator import PolynomialGenerator\n",
    "from experiments.utils.generate_quadratics import generate_quadratic\n",
    "from experiments.utils.get_lipschitz import get_lipschitz\n",
    "from line_searches.Constant import Constant\n",
    "from line_searches.QuasiWolfe import QuasiWolfe\n",
    "\n",
    "import matplotlib.pyplot as plt\n",
    "from experiments.utils.miscellaneous import smooth_running_mean"
   ]
  },
  {
   "cell_type": "code",
   "execution_count": 2,
   "outputs": [],
   "source": [
    "max_steps = 100000\n",
    "single_epsilon = 1e-4\n",
    "# epsilons = [1e-6]\n",
    "bounds =[-1,1]\n",
    "\n",
    "\n",
    "stopping_conditions = [\"grad\", \"x\", \"y\"]\n",
    "dim =200\n",
    "degree = 2\n",
    "\n",
    "\n",
    "stopping_condition = stopping_conditions[0]\n",
    "record_trace = True\n",
    "\n"
   ],
   "metadata": {
    "collapsed": false
   }
  },
  {
   "cell_type": "code",
   "execution_count": 3,
   "outputs": [],
   "source": [
    "# a single run\n",
    "\n",
    "\n",
    "# const = Constant(1/l1)\n",
    "  # 0,       1           2               3          4          5            6          7\n",
    "# steps, step_count, f_calls_count, g_calls_count, end, gradients, objective_values, success\n",
    "\n",
    "# x0 = np.random.uniform(-1,1,dim)\n",
    "# # f,g,h = PolynomialGenerator().generate(dim, degree, all_positive=False)\n",
    "# f,g,h, = generate_quadratic(dim)\n",
    "# const = Constant(0.4)\n",
    "# qw = QuasiWolfe(alpha0=0.4)\n",
    "# res = grad_descent(f,g,start=x0,epsilon=single_epsilon, record_trace=False, record_gradients=False,record_objective_values=False, learning_rate=const, constraints=bounds, termination_criterion=stopping_condition,max_steps=max_steps, nesterov=False, verbose=False)\n",
    "#\n",
    "# print(res[1])\n",
    "# print(f\" f calls {res[2]}\")\n",
    "# print(f\" g calls {res[3]}\")"
   ],
   "metadata": {
    "collapsed": false
   }
  },
  {
   "cell_type": "markdown",
   "source": [
    "check how const compares with normal wolfe and wolfe with different alpha0 values and bfgs\n",
    "for many functions including the ones tested in the paper - and then if it is good/interesting email the authors of the paper -maybe there is something it this"
   ],
   "metadata": {
    "collapsed": false
   }
  },
  {
   "cell_type": "code",
   "execution_count": null,
   "outputs": [],
   "source": [
    "# many runs average\n",
    "\n",
    "runs = 100\n",
    "num_alphas = 100\n",
    "results_static = np.zeros((runs, num_alphas,2))\n",
    "\n",
    "alpha0s = np.linspace(0,5, num_alphas)\n",
    "\n",
    "\n",
    "for i,alpha0 in enumerate(alpha0s):\n",
    "    for j in range(runs):\n",
    "        x0 = np.random.uniform(-1,1,dim)\n",
    "        f,g,h = generate_quadratic(dim)\n",
    "        const = Constant(alpha0)\n",
    "        res = grad_descent(f,g,start=x0,epsilon=single_epsilon, record_trace=False, record_gradients=False,record_objective_values=False, learning_rate=const, constraints=bounds, termination_criterion=stopping_condition,max_steps=max_steps, nesterov=False, verbose=False)\n",
    "\n",
    "        results_static[j,i,0] = res[2]\n",
    "        results_static[j,i,1] = res[3]\n",
    "    print(f\" alpha {i} done\")\n",
    "\n",
    "np.save(r\"C:\\Users\\Owner\\Desktop\\MastersProject\\experiments\\characterise_phi\\static.npy\", results_static)"
   ],
   "metadata": {
    "collapsed": false,
    "pycharm": {
     "is_executing": true
    }
   }
  }
 ],
 "metadata": {
  "kernelspec": {
   "display_name": "Python 3",
   "language": "python",
   "name": "python3"
  },
  "language_info": {
   "codemirror_mode": {
    "name": "ipython",
    "version": 2
   },
   "file_extension": ".py",
   "mimetype": "text/x-python",
   "name": "python",
   "nbconvert_exporter": "python",
   "pygments_lexer": "ipython2",
   "version": "2.7.6"
  }
 },
 "nbformat": 4,
 "nbformat_minor": 0
}
