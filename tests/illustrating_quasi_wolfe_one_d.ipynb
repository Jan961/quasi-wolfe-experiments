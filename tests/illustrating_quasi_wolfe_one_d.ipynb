{
 "cells": [
  {
   "cell_type": "code",
   "execution_count": 1,
   "metadata": {
    "collapsed": true
   },
   "outputs": [],
   "source": [
    "from plotting.plot_2d import plot_grad_descent_2d\n",
    "from grad_descent import grad_descent\n",
    "from function_generation.PolynomialGenerator import PolynomialGenerator\n",
    "import numpy as np\n",
    "from line_searches.QuasiWolfeTest import QuasiWolfeTest\n",
    "from line_searches.StrongWolfe import StrongWolfe\n",
    "from line_searches.Constant import Constant\n",
    "from line_searches.utils import create_phi\n",
    "import matplotlib.pyplot as plt\n",
    "plt.style.use('default')"
   ]
  },
  {
   "cell_type": "code",
   "execution_count": 2,
   "outputs": [],
   "source": [
    "# Generate a random polynomial\n",
    "degrees= 7\n",
    "dimensions = 3\n",
    "\n",
    "\n",
    "f,g,h = PolynomialGenerator().generate(dimensions,degrees)\n",
    "constraints = [-100, 100]\n",
    "\n",
    "x0 = np.zeros(dimensions)"
   ],
   "metadata": {
    "collapsed": false
   }
  },
  {
   "cell_type": "code",
   "execution_count": 3,
   "outputs": [],
   "source": [
    "phi, dphi_minus, dphi_plus = create_phi(f,g,x0, g(x0), constraints)\n",
    "\n"
   ],
   "metadata": {
    "collapsed": false
   }
  },
  {
   "cell_type": "code",
   "execution_count": 4,
   "outputs": [],
   "source": [
    "# starting_gradient = g(x0)\n",
    "# alphas = np.linspace(0,1,100)\n",
    "# y2 = [f(x0 - ai*starting_gradient) for ai in alphas]\n",
    "# plt.plot(alphas,y2)"
   ],
   "metadata": {
    "collapsed": false
   }
  },
  {
   "cell_type": "code",
   "execution_count": 5,
   "outputs": [],
   "source": [
    "# only use if dimensiions == 2\n",
    "\n",
    "if dimensions == 2:\n",
    "\n",
    "\n",
    "\n",
    "    margin =0.5\n",
    "    samples_per_side = 100\n",
    "    boundary = 1\n",
    "\n",
    "    x = np.linspace(-boundary-margin,boundary+margin,samples_per_side)\n",
    "    y = np.linspace(-boundary-margin,boundary+margin,samples_per_side)\n",
    "\n",
    "\n",
    "    # plot the function\n",
    "\n",
    "    xv, yv = np.meshgrid(x, y)\n",
    "    fig, ax = plt.subplots()\n",
    "\n",
    "    z = f([xv,yv])\n",
    "    ax.contourf(xv, yv, z, extent=(-boundary-margin,boundary+margin,-boundary-margin,boundary+margin), origin='lower', levels=40)"
   ],
   "metadata": {
    "collapsed": false
   }
  },
  {
   "cell_type": "code",
   "execution_count": 6,
   "outputs": [
    {
     "name": "stdout",
     "output_type": "stream",
     "text": [
      " never reached stage two - step satisfies Wolfe conditions\n"
     ]
    },
    {
     "ename": "ValueError",
     "evalue": "too many values to unpack (expected 8)",
     "output_type": "error",
     "traceback": [
      "\u001B[1;31m---------------------------------------------------------------------------\u001B[0m",
      "\u001B[1;31mValueError\u001B[0m                                Traceback (most recent call last)",
      "Cell \u001B[1;32mIn[6], line 3\u001B[0m\n\u001B[0;32m      1\u001B[0m qw_ls \u001B[38;5;241m=\u001B[39m QuasiWolfeTest(constraints\u001B[38;5;241m=\u001B[39mconstraints, alpha0\u001B[38;5;241m=\u001B[39m\u001B[38;5;241m0.01\u001B[39m)\n\u001B[1;32m----> 3\u001B[0m a_star, ph_a_star, _, _,_,  stage_one_tries_alphas, stage_two_currents_alphas, stage_two_brackets_alphas \u001B[38;5;241m=\u001B[39m qw_ls\u001B[38;5;241m.\u001B[39msearch(f, g, x0, g(x0))\n",
      "\u001B[1;31mValueError\u001B[0m: too many values to unpack (expected 8)"
     ]
    }
   ],
   "source": [
    "qw_ls = QuasiWolfeTest(constraints=constraints, alpha0=0.01)\n",
    "\n",
    "a_star, ph_a_star, _, _,_,  stage_one_tries_alphas, stage_two_currents_alphas, stage_two_brackets_alphas = qw_ls.search(f, g, x0, g(x0))"
   ],
   "metadata": {
    "collapsed": false
   }
  },
  {
   "cell_type": "markdown",
   "source": [],
   "metadata": {
    "collapsed": false
   }
  },
  {
   "cell_type": "code",
   "execution_count": null,
   "outputs": [],
   "source": [
    "st_wolfe = StrongWolfe(alpha0=0.01)\n",
    "a_star2, ph_a_star2, _, _, _ = st_wolfe.search(f, g, x0, g(x0))"
   ],
   "metadata": {
    "collapsed": false
   }
  },
  {
   "cell_type": "code",
   "execution_count": null,
   "outputs": [],
   "source": [
    "\n",
    "print(f\" number of stage one tries {len(stage_one_tries_alphas)}\")\n",
    "print(f\" number of stage two currents {len(stage_two_currents_alphas)}\")\n",
    "print(f\" number of brackets {len(stage_two_brackets_alphas)}\")"
   ],
   "metadata": {
    "collapsed": false
   }
  },
  {
   "cell_type": "code",
   "execution_count": null,
   "outputs": [],
   "source": [
    "starting_gradient = g(x0)\n",
    "\n",
    "bracket_id = 0\n",
    "alphas = np.linspace(0,1,100)\n",
    "y2 = [f(x0 - ai*starting_gradient) for ai in alphas]\n",
    "plt.plot(alphas,y2)\n",
    "\n",
    "\n",
    "plt.scatter(a_star2, ph_a_star2, color='red', zorder=10) # that normal wolfe from optim\n",
    "# plt.scatter(a_star, ph_a_star, color='green', zorder =10)\n",
    "for alpha in stage_one_tries_alphas:\n",
    "    plt.scatter(alpha, phi(alpha), color='black')\n",
    "# for alpha in stage_two_currents_alphas:\n",
    "#     plt.scatter(alpha, phi(alpha), color='blue')\n",
    "\n",
    "# plt.scatter(stage_two_brackets_alphas[bracket_id], phi(stage_two_brackets_alphas[bracket_id]), color='orange')\n",
    "# plt.plot(stage_two_brackets_alphas[bracket_id], phi(stage_two_brackets_alphas[bracket_id]), color='orange', ls='--')\n",
    "\n"
   ],
   "metadata": {
    "collapsed": false
   }
  },
  {
   "cell_type": "code",
   "execution_count": null,
   "outputs": [],
   "source": [],
   "metadata": {
    "collapsed": false
   }
  },
  {
   "cell_type": "code",
   "execution_count": null,
   "outputs": [],
   "source": [],
   "metadata": {
    "collapsed": false
   }
  }
 ],
 "metadata": {
  "kernelspec": {
   "display_name": "Python 3",
   "language": "python",
   "name": "python3"
  },
  "language_info": {
   "codemirror_mode": {
    "name": "ipython",
    "version": 2
   },
   "file_extension": ".py",
   "mimetype": "text/x-python",
   "name": "python",
   "nbconvert_exporter": "python",
   "pygments_lexer": "ipython2",
   "version": "2.7.6"
  }
 },
 "nbformat": 4,
 "nbformat_minor": 0
}
