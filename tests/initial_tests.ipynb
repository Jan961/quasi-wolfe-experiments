{
 "cells": [
  {
   "cell_type": "code",
   "execution_count": 1,
   "metadata": {},
   "outputs": [],
   "source": [
    "\n",
    "import numpy as np\n",
    "from numpy.polynomial import polynomial\n",
    "import matplotlib.pyplot as plt\n",
    "import itertools\n",
    "import sympy as sp"
   ]
  },
  {
   "cell_type": "code",
   "execution_count": 3,
   "metadata": {},
   "outputs": [],
   "source": [
    "from typing import List\n",
    "\n",
    "\n",
    "# simple gradient descent algorithm for function fn (an arrray with 1st row x coeffs and 2nd row y coeffs)\n",
    "# with initial value init, terminating when the last step is with in epsilon of the true minimum x_star\n",
    "# x is 2X1 np.ndarray\n",
    "\n"
   ]
  },
  {
   "cell_type": "code",
   "execution_count": 4,
   "metadata": {},
   "outputs": [],
   "source": [
    "def plot_steps_2d(steps: np.ndarray, axes: plt.Axes):\n",
    "    axes.plot(steps[0], steps[1], 'ro')\n",
    "    axes.plot(steps[0], steps[1], 'r--')\n",
    "    axes.set_xlabel('x')\n",
    "    axes.set_ylabel('y')\n",
    "    axes.legend(['Steps of Gradient Descent'])"
   ]
  },
  {
   "cell_type": "code",
   "execution_count": 5,
   "metadata": {},
   "outputs": [],
   "source": [
    "# simple 2D function with random coefficients\n",
    "fn = lambda x,y: np.abs(2*np.random.randn())*x**2 + np.abs(np.random.randn())*y**2\n",
    "fn_grad = lambda x,y: np.array([2*np.abs(3*np.random.randn())*x, 2*np.abs(np.random.randn())*y])\n",
    "\n",
    "\n",
    "\n",
    "\n",
    "# grad descent on the function with learning rate 0.1, epsilon 0.1, and initial value [1,1]\n",
    "\n",
    "x_final, steps = simple_grad_descent(fn_grad, 0.1, 0.1, np.array([0,0]), np.array([9,9]))\n",
    "\n",
    "\n",
    "def plot_grad_descent_2d(steps, fn ,samples_per_side = 200, levels = 50):\n",
    "\n",
    "\n",
    "    x = np.linspace(-10,10,samples_per_side)\n",
    "    y = np.linspace(-10,10,samples_per_side)\n",
    "\n",
    "    # create a matplotlip contour plot of the function around its minimum\n",
    "    xv, yv = np.meshgrid(x, y)\n",
    "\n",
    "    fig, axes = plt.subplots()\n",
    "\n",
    "    plot_steps_2d(steps, axes)\n",
    "\n",
    "    contours =  axes.contourf(x, y, fn(xv,yv),levels)\n",
    "    fig.colorbar(contours,  ax=axes, orientation='vertical',\n",
    "             location='right', shrink=1)\n",
    "    plt.show()\n"
   ]
  },
  {
   "cell_type": "code",
   "execution_count": null,
   "metadata": {},
   "outputs": [
    {
     "ename": "KeyboardInterrupt",
     "evalue": "",
     "output_type": "error",
     "traceback": [
      "\u001B[1;31m---------------------------------------------------------------------------\u001B[0m",
      "\u001B[1;31mKeyboardInterrupt\u001B[0m                         Traceback (most recent call last)",
      "Cell \u001B[1;32mIn [6], line 7\u001B[0m\n\u001B[0;32m      4\u001B[0m fn2 \u001B[38;5;241m=\u001B[39m \u001B[38;5;28;01mlambda\u001B[39;00m x: x\u001B[38;5;241m*\u001B[39m\u001B[38;5;241m*\u001B[39m\u001B[38;5;241m3\u001B[39m \u001B[38;5;241m-\u001B[39m \u001B[38;5;241m6\u001B[39m\u001B[38;5;241m*\u001B[39mx\n\u001B[0;32m      5\u001B[0m fn2_grad \u001B[38;5;241m=\u001B[39m \u001B[38;5;28;01mlambda\u001B[39;00m x: \u001B[38;5;241m3\u001B[39m\u001B[38;5;241m*\u001B[39mx\u001B[38;5;241m*\u001B[39m\u001B[38;5;241m*\u001B[39m\u001B[38;5;241m2\u001B[39m \u001B[38;5;241m-\u001B[39m \u001B[38;5;241m6\u001B[39m\n\u001B[1;32m----> 7\u001B[0m x_final_fn2, steps_fn2 \u001B[38;5;241m=\u001B[39m \u001B[43msimple_grad_descent\u001B[49m\u001B[43m(\u001B[49m\u001B[43mfn2_grad\u001B[49m\u001B[43m,\u001B[49m\u001B[43m \u001B[49m\u001B[38;5;241;43m0.1\u001B[39;49m\u001B[43m,\u001B[49m\u001B[43m \u001B[49m\u001B[38;5;241;43m0.1\u001B[39;49m\u001B[43m,\u001B[49m\u001B[43m \u001B[49m\u001B[43mnp\u001B[49m\u001B[38;5;241;43m.\u001B[39;49m\u001B[43marray\u001B[49m\u001B[43m(\u001B[49m\u001B[43m[\u001B[49m\u001B[38;5;241;43m0\u001B[39;49m\u001B[43m]\u001B[49m\u001B[43m)\u001B[49m\u001B[43m,\u001B[49m\u001B[43m \u001B[49m\u001B[43mnp\u001B[49m\u001B[38;5;241;43m.\u001B[39;49m\u001B[43marray\u001B[49m\u001B[43m(\u001B[49m\u001B[43m[\u001B[49m\u001B[38;5;241;43m9\u001B[39;49m\u001B[43m]\u001B[49m\u001B[43m)\u001B[49m\u001B[43m)\u001B[49m\n\u001B[0;32m     10\u001B[0m \u001B[38;5;66;03m#plot\u001B[39;00m\n\u001B[0;32m     11\u001B[0m \u001B[38;5;28;01mdef\u001B[39;00m \u001B[38;5;21mplot_steps_1d\u001B[39m(steps: np\u001B[38;5;241m.\u001B[39mndarray, axes: plt\u001B[38;5;241m.\u001B[39mAxes, fn: Callable):\n",
      "Cell \u001B[1;32mIn [3], line 13\u001B[0m, in \u001B[0;36msimple_grad_descent\u001B[1;34m(fn_grad, learning_rate, epsilon, x_star, init)\u001B[0m\n\u001B[0;32m     10\u001B[0m steps \u001B[38;5;241m=\u001B[39m [[init[i]] \u001B[38;5;28;01mfor\u001B[39;00m i \u001B[38;5;129;01min\u001B[39;00m \u001B[38;5;28mrange\u001B[39m(\u001B[38;5;28mlen\u001B[39m(init))]\n\u001B[0;32m     11\u001B[0m x \u001B[38;5;241m=\u001B[39m init\n\u001B[1;32m---> 13\u001B[0m \u001B[38;5;28;01mwhile\u001B[39;00m \u001B[43mnp\u001B[49m\u001B[38;5;241;43m.\u001B[39;49m\u001B[43mlinalg\u001B[49m\u001B[38;5;241;43m.\u001B[39;49m\u001B[43mnorm\u001B[49m\u001B[43m(\u001B[49m\u001B[43mx\u001B[49m\u001B[43m \u001B[49m\u001B[38;5;241;43m-\u001B[39;49m\u001B[43m \u001B[49m\u001B[43mx_star\u001B[49m\u001B[43m)\u001B[49m \u001B[38;5;241m>\u001B[39m epsilon:\n\u001B[0;32m     15\u001B[0m     grad \u001B[38;5;241m=\u001B[39m fn_grad(\u001B[38;5;241m*\u001B[39mx)\n\u001B[0;32m     16\u001B[0m     x \u001B[38;5;241m=\u001B[39m x \u001B[38;5;241m-\u001B[39m learning_rate\u001B[38;5;241m*\u001B[39mnp\u001B[38;5;241m.\u001B[39marray(grad)\n",
      "File \u001B[1;32m<__array_function__ internals>:177\u001B[0m, in \u001B[0;36mnorm\u001B[1;34m(*args, **kwargs)\u001B[0m\n",
      "\u001B[1;31mKeyboardInterrupt\u001B[0m: "
     ]
    }
   ],
   "source": [
    "from typing import Callable\n",
    "\n",
    "#non convex 1D PL function\n",
    "fn2 = lambda x: x**3 - 6*x\n",
    "fn2_grad = lambda x: 3*x**2 - 6\n",
    "\n",
    "x_final_fn2, steps_fn2 = simple_grad_descent(fn2_grad, 0.1, 0.1, np.array([1.44]), np.array([4]))\n",
    "\n",
    "\n",
    "#plot\n",
    "def plot_steps_1d(steps: np.ndarray, axes: plt.Axes, fn: Callable):\n",
    "    axes.plot(steps[0], fn(steps[0]), 'ro')\n",
    "    axes.plot(steps[0], fn(steps[0]), 'r--')\n",
    "    axes.legend(['Steps of Gradient Descent'])\n",
    "\n",
    "# plot the steps of gradient descent on a 1D function\n",
    "def plot_grad_descent_1d(steps, fn ,samples_per_side = 200, levels = 30):\n",
    "    x = np.linspace(-10,10,1000)\n",
    "    y = np.linspace(-10,10,1000)\n",
    "\n",
    "    # create a matplotlip contour plot of the function around its minimum\n",
    "\n",
    "\n",
    "    fig, axes = plt.subplots()\n",
    "    plot_steps_1d(steps, axes, fn2)\n",
    "    axes.plot(x, fn(x))\n",
    "    axes.set_xlabel('x')\n",
    "    axes.set_ylabel('y')\n",
    "    plt.show()\n",
    "\n",
    "plot_grad_descent_1d(steps_fn2, fn2)"
   ]
  },
  {
   "cell_type": "markdown",
   "metadata": {},
   "source": [
    "demonstrate Convergence Rate for Convex Functions O(1/\u000F) based on epsilon close ti the min\n",
    "and also O(1/\u000F) if we want the grad to be < epsilon\n",
    "with the random convex landscape this"
   ]
  },
  {
   "cell_type": "markdown",
   "metadata": {},
   "source": [
    "For random multivariate polynomials with 1,2,3,4 indeterminates of degree 2,3,4"
   ]
  },
  {
   "cell_type": "code",
   "execution_count": 17,
   "metadata": {},
   "outputs": [
    {
     "ename": "SyntaxError",
     "evalue": "unmatched ')' (1140963365.py, line 21)",
     "output_type": "error",
     "traceback": [
      "\u001B[1;36m  Cell \u001B[1;32mIn [17], line 21\u001B[1;36m\u001B[0m\n\u001B[1;33m    combs = [np.array(list(itertools.combinations_with_replacement(var_ids, d))) for d in range(degree) ])\u001B[0m\n\u001B[1;37m                                                                                                         ^\u001B[0m\n\u001B[1;31mSyntaxError\u001B[0m\u001B[1;31m:\u001B[0m unmatched ')'\n"
     ]
    }
   ],
   "source": [
    "\n"
   ]
  },
  {
   "cell_type": "code",
   "execution_count": 11,
   "metadata": {},
   "outputs": [
    {
     "data": {
      "text/plain": [
       "array([[1, 1],\n",
       "       [1, 2],\n",
       "       [1, 3],\n",
       "       [2, 2],\n",
       "       [2, 3],\n",
       "       [3, 3]])"
      ]
     },
     "execution_count": 11,
     "metadata": {},
     "output_type": "execute_result"
    }
   ],
   "source": [
    "x = itertools.combinations_with_replacement([1,2,3], 2)\n",
    "\n"
   ]
  },
  {
   "cell_type": "code",
   "execution_count": null,
   "outputs": [],
   "source": [],
   "metadata": {
    "collapsed": false
   }
  },
  {
   "cell_type": "code",
   "execution_count": 2,
   "outputs": [
    {
     "name": "stdout",
     "output_type": "stream",
     "text": [
      "5\n"
     ]
    }
   ],
   "source": [
    "a = sp.Symbol('a', real=True)\n",
    "b = sp.Symbol('b', real=True)\n",
    "c = sp.Symbol('c', real=True)\n",
    "d = sp.Symbol('d', real=True)\n",
    "e = sp.Symbol('e', real=True)\n",
    "f = sp.Symbol('f', real=True)\n",
    "\n",
    "varibles = [a,b,c,d,e,f]\n",
    "\n",
    "expr = a**2+2*b\n",
    "\n",
    "f_lambda = sp.lambdify(varibles, expr, 'numpy')\n",
    "\n",
    "print(f_lambda(1,2,3,4,5,6))"
   ],
   "metadata": {
    "collapsed": false
   }
  }
 ],
 "metadata": {
  "kernelspec": {
   "display_name": "Python 3 (ipykernel)",
   "language": "python",
   "name": "python3"
  },
  "language_info": {
   "codemirror_mode": {
    "name": "ipython",
    "version": 3
   },
   "file_extension": ".py",
   "mimetype": "text/x-python",
   "name": "python",
   "nbconvert_exporter": "python",
   "pygments_lexer": "ipython3",
   "version": "3.11.4"
  }
 },
 "nbformat": 4,
 "nbformat_minor": 1
}
