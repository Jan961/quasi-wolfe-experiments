{
 "cells": [
  {
   "cell_type": "code",
   "execution_count": 27,
   "outputs": [],
   "source": [
    "import np as np\n",
    "\n",
    "from function_generation.PolynomialGenerator import PolynomialGenerator"
   ],
   "metadata": {
    "collapsed": false
   }
  },
  {
   "cell_type": "code",
   "execution_count": 32,
   "outputs": [],
   "source": [
    "from experiments.utils.generate_quadratics import generate_quadratic\n",
    "\n",
    "n = 10\n",
    "# f,g,h = PolynomialGenerator().generate(n,3)\n",
    "f,g,h = generate_quadratic(n)\n",
    "L = np.max(np.abs(np.linalg.eigvals(h())))"
   ],
   "metadata": {
    "collapsed": false
   }
  },
  {
   "cell_type": "code",
   "execution_count": 33,
   "outputs": [],
   "source": [
    "from grad_descent import grad_descent\n",
    "from line_searches.QuasiWolfe import QuasiWolfe\n",
    "import numpy as np\n",
    "\n",
    "x0 = np.zeros(n)\n",
    "qw = QuasiWolfe()\n",
    "res = grad_descent(f, g, x0, 1e-10, max_steps=5, learning_rate=qw,record_objective_values=True, constraints=[-1,1])"
   ],
   "metadata": {
    "collapsed": false
   }
  },
  {
   "cell_type": "code",
   "execution_count": 34,
   "outputs": [
    {
     "name": "stdout",
     "output_type": "stream",
     "text": [
      "[ 0.         -4.72159563 -7.21160608 -7.36725392 -7.37981871  0.        ]\n"
     ]
    }
   ],
   "source": [
    "print(res[6])"
   ],
   "metadata": {
    "collapsed": false
   }
  },
  {
   "cell_type": "code",
   "execution_count": null,
   "outputs": [],
   "source": [],
   "metadata": {
    "collapsed": false
   }
  }
 ],
 "metadata": {
  "kernelspec": {
   "display_name": "Python 3",
   "language": "python",
   "name": "python3"
  },
  "language_info": {
   "codemirror_mode": {
    "name": "ipython",
    "version": 2
   },
   "file_extension": ".py",
   "mimetype": "text/x-python",
   "name": "python",
   "nbconvert_exporter": "python",
   "pygments_lexer": "ipython2",
   "version": "2.7.6"
  }
 },
 "nbformat": 4,
 "nbformat_minor": 0
}
