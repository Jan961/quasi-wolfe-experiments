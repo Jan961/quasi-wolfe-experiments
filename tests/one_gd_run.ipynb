{
 "cells": [
  {
   "cell_type": "code",
   "execution_count": null,
   "metadata": {
    "collapsed": true
   },
   "outputs": [],
   "source": [
    "from math import factorial\n",
    "import numpy as np\n",
    "from itertools import combinations_with_replacement\n",
    "import time\n",
    "from grad_descent import grad_descent\n",
    "from function_generation.PolynomialGenerator import PolynomialGenerator\n",
    "from experiments.utils.generate_quadratics import generate_quadratic\n",
    "from experiments.utils.get_lipschitz import get_lipschitz\n",
    "from line_searches.Constant import Constant\n",
    "from line_searches.QuasiWolfe import QuasiWolfe\n",
    "from line_searches.StrongWolfe import StrongWolfe\n",
    "from line_searches.MoreThuente import MoreThuente\n",
    "import matplotlib.pyplot as plt\n",
    "from experiments.utils.miscellaneous import smooth_running_mean\n",
    "\n"
   ]
  },
  {
   "cell_type": "code",
   "execution_count": null,
   "outputs": [],
   "source": [],
   "metadata": {
    "collapsed": false
   }
  }
 ],
 "metadata": {
  "kernelspec": {
   "display_name": "Python 3",
   "language": "python",
   "name": "python3"
  },
  "language_info": {
   "codemirror_mode": {
    "name": "ipython",
    "version": 2
   },
   "file_extension": ".py",
   "mimetype": "text/x-python",
   "name": "python",
   "nbconvert_exporter": "python",
   "pygments_lexer": "ipython2",
   "version": "2.7.6"
  }
 },
 "nbformat": 4,
 "nbformat_minor": 0
}
