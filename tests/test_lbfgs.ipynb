{
 "cells": [
  {
   "cell_type": "code",
   "execution_count": 8,
   "metadata": {
    "collapsed": true
   },
   "outputs": [],
   "source": [
    "from scipy.optimize import minimize\n",
    "from scipy.optimize import Bounds\n",
    "import numpy as np\n",
    "import matplotlib.pyplot as plt"
   ]
  },
  {
   "cell_type": "code",
   "execution_count": 9,
   "outputs": [],
   "source": [
    "max_steps = 1000\n",
    "f_values_record = np.zeros(max_steps)\n",
    "count_global =0\n",
    "\n",
    "\n",
    "def f(x):\n",
    "    global count_global\n",
    "    global f_values_record\n",
    "    res = x**2 + 10*np.sin(x)\n",
    "    print(res)\n",
    "    f_values_record[count_global] = res\n",
    "    count_global += 1\n",
    "    return x**2 + 10*np.sin(x)\n",
    "\n"
   ],
   "metadata": {
    "collapsed": false
   }
  },
  {
   "cell_type": "code",
   "execution_count": 10,
   "outputs": [],
   "source": [
    "# x = np.arange(-10, 10, 0.1)\n",
    "# y = f(x)\n",
    "#\n",
    "# plt.plot(x, y)"
   ],
   "metadata": {
    "collapsed": false
   }
  },
  {
   "cell_type": "code",
   "execution_count": 11,
   "outputs": [
    {
     "name": "stdout",
     "output_type": "stream",
     "text": [
      "138.63427081999566\n",
      "138.63427081999566\n",
      "1\n"
     ]
    }
   ],
   "source": [
    "print(f(12))\n",
    "print(count_global)"
   ],
   "metadata": {
    "collapsed": false
   }
  },
  {
   "cell_type": "code",
   "execution_count": 12,
   "outputs": [
    {
     "name": "stdout",
     "output_type": "stream",
     "text": [
      "[9.41470985]\n",
      "[9.41470977]\n",
      "[-7.41470985]\n",
      "[-7.41470981]\n"
     ]
    },
    {
     "name": "stderr",
     "output_type": "stream",
     "text": [
      "C:\\Users\\Owner\\AppData\\Local\\Temp\\ipykernel_8216\\3610478883.py:11: DeprecationWarning: Conversion of an array with ndim > 0 to a scalar is deprecated, and will error in future. Ensure you extract a single element from your array before performing this operation. (Deprecated NumPy 1.25.)\n",
      "  f_values_record[count_global] = res\n"
     ]
    }
   ],
   "source": [
    "x0 = np.random.uniform(-10, 10)\n",
    "\n",
    "res = minimize(f,x0, method=\"L-BFGS-B\", bounds=Bounds(lb=-1,ub=1), options={'gtol':1e-6, 'maxiter':10000})"
   ],
   "metadata": {
    "collapsed": false
   }
  },
  {
   "cell_type": "code",
   "execution_count": 15,
   "outputs": [
    {
     "name": "stdout",
     "output_type": "stream",
     "text": [
      "True\n"
     ]
    }
   ],
   "source": [
    "print(res['success'])"
   ],
   "metadata": {
    "collapsed": false
   }
  },
  {
   "cell_type": "code",
   "execution_count": null,
   "outputs": [],
   "source": [
    "print(f_values_record)\n"
   ],
   "metadata": {
    "collapsed": false
   }
  },
  {
   "cell_type": "code",
   "execution_count": null,
   "outputs": [],
   "source": [
    "from experiments.utils.generate_quadratics import generate_quadratic\n",
    "\n",
    "f,g,h = generate_quadratic(10)\n",
    "\n",
    "global_calls_counter = 0\n"
   ],
   "metadata": {
    "collapsed": false
   }
  },
  {
   "cell_type": "code",
   "execution_count": null,
   "outputs": [],
   "source": [
    "x = np.random.uniform(-10, 10, 10)\n",
    "print(f(x, record_values=True))\n",
    "print(global_calls_counter)"
   ],
   "metadata": {
    "collapsed": false
   }
  },
  {
   "cell_type": "code",
   "execution_count": null,
   "outputs": [],
   "source": [],
   "metadata": {
    "collapsed": false
   }
  }
 ],
 "metadata": {
  "kernelspec": {
   "display_name": "Python 3",
   "language": "python",
   "name": "python3"
  },
  "language_info": {
   "codemirror_mode": {
    "name": "ipython",
    "version": 2
   },
   "file_extension": ".py",
   "mimetype": "text/x-python",
   "name": "python",
   "nbconvert_exporter": "python",
   "pygments_lexer": "ipython2",
   "version": "2.7.6"
  }
 },
 "nbformat": 4,
 "nbformat_minor": 0
}
