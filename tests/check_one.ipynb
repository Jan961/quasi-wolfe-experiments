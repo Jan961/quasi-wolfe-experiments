{
 "cells": [
  {
   "cell_type": "code",
   "execution_count": null,
   "outputs": [],
   "source": [
    "import numpy as np\n",
    "import sympy as sp\n",
    "import matplotlib.pyplot as plt\n",
    "from function_generation.PolynomialGenerator import PolynomialGenerator\n",
    "from grad_descent import grad_descent\n",
    "\n",
    "from experiments.utils.run_experiment"
   ],
   "metadata": {
    "collapsed": false
   }
  },
  {
   "cell_type": "code",
   "execution_count": null,
   "outputs": [],
   "source": [
    "\n",
    "stoppping_conditions = [\"x\", \"y\"]\n",
    "learning_rates = [\"constant\", \"Armijo\", \"progress bound\"]\n",
    "epsilon = np.array([0.1 ** (i / 3) for i in range(32)])\n",
    "# print(epsilon)\n",
    "num_functions = 20\n",
    "repeats = 3\n",
    "bound = 2\n",
    "dimensions = 3\n",
    "degree = 2\n",
    "multiplier = 1\n",
    "LR = 0.01\n",
    "\n",
    "lr= learning_rates[0]\n",
    "sc = stoppping_conditions[0]\n",
    "\n",
    "results = np.zeros((num_functions * repeats, len(epsilon), dimensions - 2))\n",
    "\n",
    "for i in range(2, dimensions):\n",
    "    results[:, :, i - 2] = run_experiment(epsilon=epsilon, num_functions=num_functions, repeats=repeats,\n",
    "                                          bound=bound, LR=LR,\n",
    "                                          dimension=i, degree=degree, stopping_condition=sc,\n",
    "                                          multiplier=multiplier, learning_rate=lr, max_steps=1000)\n",
    "    print(f\"dimension {i} done\")\n",
    "\n",
    "name = f\"iter_{num_functions}_repeat_{repeats}_dim_{dimensions}_stop_x_lr_{lr}.npy\"\n",
    "np.save(name, results)\n"
   ],
   "metadata": {
    "collapsed": false
   }
  },
  {
   "cell_type": "code",
   "execution_count": null,
   "outputs": [],
   "source": [
    "results = np.load(name)"
   ],
   "metadata": {
    "collapsed": false
   }
  },
  {
   "cell_type": "code",
   "execution_count": null,
   "outputs": [],
   "source": [
    "fig, ax = plt.subplots(1, 1, figsize=(5, 5))\n",
    "x = 1/epsilon\n",
    "dim = 0\n",
    "\n",
    "for i in range(0,num_functions*repeats):\n",
    "    ax.plot(x, results[i,:,dim], label=f\"dimension {dim}\", alpha=0.05, color=\"red\")\n",
    "ax.plot(x, results[:, :, dim].mean(axis=0), label=f\"dimension {dim}\", color=\"blue\")\n",
    "# ax.set_ylim([10, 15])\n",
    "ax.set_xlabel(\"1/epsilon\")\n",
    "ax.set_ylabel(\"steps\")\n",
    "plt.xscale(\"log\")\n"
   ],
   "metadata": {
    "collapsed": false
   }
  },
  {
   "cell_type": "code",
   "execution_count": 1,
   "outputs": [
    {
     "name": "stdout",
     "output_type": "stream",
     "text": [
      "[[0.42495909 0.33726354 0.3171271  ... 0.55111055 0.39220891 0.19588557]\n",
      " [0.35438042 0.73235588 0.62105906 ... 0.89634721 0.99797795 0.16364404]\n",
      " [0.74651001 0.2411931  0.64236654 ... 0.47361318 0.66711197 0.67359928]\n",
      " ...\n",
      " [0.92160251 0.51304628 0.78475515 ... 0.44158144 0.62577912 0.18393031]\n",
      " [0.38990232 0.48485955 0.35976059 ... 0.84550687 0.99915933 0.20492783]\n",
      " [0.76779142 0.40012927 0.93565979 ... 0.80774653 0.06452096 0.66351173]]\n",
      "[[12640331.35734968]]\n"
     ]
    }
   ],
   "source": [
    "import numpy as np\n",
    "a = np.random.rand(10000,10000)\n",
    "print(a)\n",
    "x = np.random.rand(10000,1)\n",
    "# d = np.max(np.abs(np.linalg.eigvals(a)))\n",
    "c = x.T@a@x\n",
    "print(c)"
   ],
   "metadata": {
    "collapsed": false
   }
  }
 ],
 "metadata": {
  "kernelspec": {
   "display_name": "Python 3",
   "language": "python",
   "name": "python3"
  },
  "language_info": {
   "codemirror_mode": {
    "name": "ipython",
    "version": 2
   },
   "file_extension": ".py",
   "mimetype": "text/x-python",
   "name": "python",
   "nbconvert_exporter": "python",
   "pygments_lexer": "ipython2",
   "version": "2.7.6"
  }
 },
 "nbformat": 4,
 "nbformat_minor": 0
}
