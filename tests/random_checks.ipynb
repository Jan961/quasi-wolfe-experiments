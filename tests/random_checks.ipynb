{
 "cells": [
  {
   "cell_type": "code",
   "source": [
    "import numpy as np\n",
    "\n",
    "import matplotlib.pyplot as plt"
   ],
   "metadata": {
    "collapsed": false,
    "ExecuteTime": {
     "end_time": "2024-12-25T20:11:08.409407Z",
     "start_time": "2024-12-25T20:11:08.230994Z"
    }
   },
   "outputs": [
    {
     "ename": "ModuleNotFoundError",
     "evalue": "No module named 'pandas'",
     "output_type": "error",
     "traceback": [
      "\u001B[1;31m---------------------------------------------------------------------------\u001B[0m",
      "\u001B[1;31mModuleNotFoundError\u001B[0m                       Traceback (most recent call last)",
      "Cell \u001B[1;32mIn [1], line 2\u001B[0m\n\u001B[0;32m      1\u001B[0m \u001B[38;5;28;01mimport\u001B[39;00m \u001B[38;5;21;01mnumpy\u001B[39;00m \u001B[38;5;28;01mas\u001B[39;00m \u001B[38;5;21;01mnp\u001B[39;00m\n\u001B[1;32m----> 2\u001B[0m \u001B[38;5;28;01mimport\u001B[39;00m \u001B[38;5;21;01mpandas\u001B[39;00m \u001B[38;5;28;01mas\u001B[39;00m \u001B[38;5;21;01mpd\u001B[39;00m\n\u001B[0;32m      3\u001B[0m \u001B[38;5;28;01mimport\u001B[39;00m \u001B[38;5;21;01mmatplotlib\u001B[39;00m\u001B[38;5;21;01m.\u001B[39;00m\u001B[38;5;21;01mpyplot\u001B[39;00m \u001B[38;5;28;01mas\u001B[39;00m \u001B[38;5;21;01mplt\u001B[39;00m\n",
      "\u001B[1;31mModuleNotFoundError\u001B[0m: No module named 'pandas'"
     ]
    }
   ],
   "execution_count": 1
  },
  {
   "cell_type": "code",
   "execution_count": null,
   "outputs": [],
   "source": [
    "def reverse(a_list):\n",
    "  for i in range(len(a_list)//2):\n",
    "    temp = a_list[i]\n",
    "    a_list[i] = a_list[len(a_list)-1-i]\n",
    "    a_list[len(a_list)-1-i] = temp"
   ],
   "metadata": {
    "collapsed": false
   }
  },
  {
   "cell_type": "code",
   "execution_count": null,
   "outputs": [],
   "source": [
    "x = [1,2,3,4,5,6,7,8,9]\n",
    "reverse(x)\n",
    "print(x)"
   ],
   "metadata": {
    "collapsed": false
   }
  },
  {
   "cell_type": "code",
   "execution_count": null,
   "outputs": [],
   "source": [
    "random_example_indices = [0, 1, 2,1]\n",
    "\n",
    "values = [23, 54, 77]\n",
    "\n",
    "print(np.take(values, random_example_indices))"
   ],
   "metadata": {
    "collapsed": false
   }
  },
  {
   "cell_type": "code",
   "execution_count": null,
   "outputs": [],
   "source": [
    "def step(x_k, lr, coefficients):\n",
    "    gradient = coefficients[:,1]*x_k + 2*coefficients[:,2]*x_k**2\n",
    "    return x_k - lr*gradient"
   ],
   "metadata": {
    "collapsed": false
   }
  },
  {
   "cell_type": "code",
   "execution_count": 1,
   "outputs": [],
   "source": [
    "import sympy as sp\n",
    "x = sp.symbols('x')\n",
    "y = sp.symbols('y')\n",
    "# example function 1 of 4\n",
    "f = x**2 + y**2\n",
    "# example function 2 of 4\n",
    "g = x**2 + y**2 + x*y\n",
    "# example function 3 of 4\n",
    "h = x**2 + y**2 + x*y + x\n",
    "# example function 4 of 4\n",
    "i = x**2 + y**2 + x*y + x + y\n",
    "\n",
    "m = sp.Matrix([f,g,h,i])\n",
    "\n"
   ],
   "metadata": {
    "collapsed": false
   }
  },
  {
   "cell_type": "code",
   "execution_count": 3,
   "outputs": [],
   "source": [
    "m_l = sp.lambdify((x,y), m)\n"
   ],
   "metadata": {
    "collapsed": false
   }
  },
  {
   "cell_type": "code",
   "execution_count": 6,
   "outputs": [
    {
     "name": "stdout",
     "output_type": "stream",
     "text": [
      "Matrix([[0], [0], [0]])\n"
     ]
    }
   ],
   "source": [
    "print(sp.zeros(3,1))\n",
    "\n"
   ],
   "metadata": {
    "collapsed": false
   }
  },
  {
   "cell_type": "code",
   "execution_count": 1,
   "outputs": [],
   "source": [
    "from function_generation.PolynomialGenerator import PolynomialGenerator\n",
    "\n",
    "f, g, h = PolynomialGenerator().generate(2,2, get_hessian=True)\n"
   ],
   "metadata": {
    "collapsed": false
   }
  },
  {
   "cell_type": "code",
   "execution_count": 2,
   "outputs": [
    {
     "name": "stdout",
     "output_type": "stream",
     "text": [
      "2.883987368151394\n",
      "[-1.66671854  2.57595805]\n",
      "[[-0.42007576  0.        ]\n",
      " [-0.52280468  1.37513521]]\n"
     ]
    }
   ],
   "source": [
    "import numpy as np\n",
    "\n",
    "x = np.array([1,2])\n",
    "print(f(x))\n",
    "print(g(x))\n",
    "print(h(x))"
   ],
   "metadata": {
    "collapsed": false
   }
  },
  {
   "cell_type": "code",
   "execution_count": 3,
   "outputs": [
    {
     "data": {
      "text/plain": "<Figure size 640x480 with 1 Axes>",
      "image/png": "[encoded data removed]"
     },
     "metadata": {},
     "output_type": "display_data"
    }
   ],
   "source": [
    "# plot an empirical pdf of a sum of two i.i.d variables from two Uniform distributions (-1,1) - produced by sampling from those distributions\n",
    "import matplotlib.pyplot as plt\n",
    "import numpy as np\n",
    "\n",
    "n = 100000\n",
    "x = np.random.uniform(-1,1,n)\n",
    "y = np.random.uniform(-1,1,n)\n",
    "z = x+y\n",
    "\n",
    "plt.hist(z, bins=100, density=True)\n",
    "plt.show()"
   ],
   "metadata": {
    "collapsed": false
   }
  },
  {
   "cell_type": "code",
   "execution_count": 3,
   "outputs": [
    {
     "name": "stdout",
     "output_type": "stream",
     "text": [
      "[]\n"
     ]
    }
   ],
   "source": [
    "a = np.array([-1,-2,-4])\n",
    "b = np.array([-6,-3,-7])\n",
    "c = a[a>0]\n",
    "d= b[b>0]\n",
    "# print(min(np.min(c), np.min(d)))\n",
    "print(c)"
   ],
   "metadata": {
    "collapsed": false
   }
  },
  {
   "cell_type": "code",
   "execution_count": 8,
   "outputs": [
    {
     "name": "stdout",
     "output_type": "stream",
     "text": [
      "[ 0.1       -0.8488292]\n"
     ]
    }
   ],
   "source": [
    "def project_gradient(gradient, constraints, x):\n",
    "    gradient = np.where(np.logical_and(gradient < 0, x == constraints[:, 1]), 0, gradient)\n",
    "    gradient = np.where(np.logical_and(gradient > 0, x == constraints[:, 0]), 0, gradient)\n",
    "\n",
    "    return gradient\n",
    "\n",
    "grad = np.array([ 0.1    ,   -0.8488292])\n",
    "constraints = np.array([[-1, 1], [-1, 1]])\n",
    "x = np.array([-0.8788292, -1.       ])\n",
    "print(project_gradient(grad, constraints, x))"
   ],
   "metadata": {
    "collapsed": false
   }
  },
  {
   "cell_type": "code",
   "execution_count": 9,
   "outputs": [
    {
     "name": "stdout",
     "output_type": "stream",
     "text": [
      "EigResult(eigenvalues=array([11.,  9.]), eigenvectors=array([[ 0.70710678,  0.70710678],\n",
      "       [-0.70710678,  0.70710678]]))\n"
     ]
    }
   ],
   "source": [
    "import numpy as np\n",
    "print(np.linalg.eig(np.array([[10,-1],[-1,10]])))"
   ],
   "metadata": {
    "collapsed": false
   }
  },
  {
   "cell_type": "code",
   "execution_count": 8,
   "outputs": [
    {
     "name": "stdout",
     "output_type": "stream",
     "text": [
      "[8 4 4 3 2 2]\n"
     ]
    }
   ],
   "source": [
    "a = np.array([9,2,3, 6, 4,8])\n",
    "\n",
    "print(np.minimum.accumulate(a[::-1]))"
   ],
   "metadata": {
    "collapsed": false
   }
  },
  {
   "cell_type": "code",
   "execution_count": 3,
   "outputs": [
    {
     "name": "stdout",
     "output_type": "stream",
     "text": [
      " a is [[6.]\n",
      " [8.]\n",
      " [9.]]\n",
      "2\n",
      " extracted steps: [[6.]\n",
      " [8.]]\n",
      " last step: [[9.]]\n",
      " errors: [3. 1.]\n",
      "None\n"
     ]
    }
   ],
   "source": [
    "from experiments.utils.miscellaneous import smooth_running_mean, get_mean_order_of_convergence\n",
    "import numpy as np\n",
    "\n",
    "\n",
    "\n",
    "a = np.array([ [6.0], [8.0], [9.0]])\n",
    "print(f\" a is {a}\")\n",
    "print(\"2\")\n",
    "\n",
    "print(get_mean_order_of_convergence(a))"
   ],
   "metadata": {
    "collapsed": false
   }
  },
  {
   "cell_type": "code",
   "execution_count": 8,
   "outputs": [
    {
     "name": "stdout",
     "output_type": "stream",
     "text": [
      " f2 is -0.0001576154591630106\n"
     ]
    },
    {
     "data": {
      "text/plain": "[<matplotlib.lines.Line2D at 0x17a6ba7e290>]"
     },
     "execution_count": 8,
     "metadata": {},
     "output_type": "execute_result"
    },
    {
     "data": {
      "text/plain": "<Figure size 640x480 with 1 Axes>",
      "image/png": "[encoded data removed]"
     },
     "metadata": {},
     "output_type": "display_data"
    }
   ],
   "source": [
    "from experiments.utils.miscellaneous import calculate_I2\n",
    "\n",
    "fig, ax = plt.subplots()\n",
    "\n",
    "x = np.linspace(0.1,10000,100)\n",
    "y= np.sqrt(x)\n",
    "\n",
    "\n",
    "x1 = 1/(2*np.sqrt(x[-1]))\n",
    "x2 = 1/(2*np.sqrt(x[0]))\n",
    "\n",
    "print(f\" f2 is {(1/(x[-1] - x[0]))*(x1 - x2)}\")\n",
    "\n",
    "ax.plot(x, y)"
   ],
   "metadata": {
    "collapsed": false
   }
  },
  {
   "cell_type": "code",
   "execution_count": 100,
   "outputs": [],
   "source": [
    "import numpy as np\n",
    "a = np.array([6,5,4,3,2,1])"
   ],
   "metadata": {
    "collapsed": false
   }
  },
  {
   "cell_type": "code",
   "execution_count": 101,
   "outputs": [
    {
     "name": "stdout",
     "output_type": "stream",
     "text": [
      "[1 1 1 1 1]\n",
      "0\n",
      "[6 5 4 3 2 1]\n"
     ]
    }
   ],
   "source": [
    "print(np.diff(a[::-1]) )\n",
    "\n",
    "max_id = np.argmax(np.diff(a[::-1]) <= 0)\n",
    "print(max_id)\n",
    "if max_id == 0 and a[-2] > a[-1]:\n",
    "    out = a\n",
    "else:\n",
    "    out = a[-max_id-1:]\n",
    "\n",
    "\n",
    "print(out)"
   ],
   "metadata": {
    "collapsed": false
   }
  },
  {
   "cell_type": "code",
   "execution_count": 75,
   "outputs": [
    {
     "name": "stdout",
     "output_type": "stream",
     "text": [
      "[1 2 8 4 5 6]\n"
     ]
    }
   ],
   "source": [
    "b = a[::-1]\n",
    "print(b)"
   ],
   "metadata": {
    "collapsed": false
   }
  },
  {
   "cell_type": "code",
   "execution_count": 77,
   "outputs": [
    {
     "name": "stdout",
     "output_type": "stream",
     "text": [
      "2\n"
     ]
    }
   ],
   "source": [
    "max_id = np.argmax(np.diff(b) <= 0)\n",
    "print(max_id)\n",
    "if max_id == 0 and b[0] < b[1]:\n",
    "    out = b\n",
    "else:\n",
    "    out = b[:max_id+1]\n",
    "\n",
    "\n",
    "\n"
   ],
   "metadata": {
    "collapsed": false
   }
  },
  {
   "metadata": {
    "ExecuteTime": {
     "end_time": "2024-12-25T20:11:25.642348Z",
     "start_time": "2024-12-25T20:11:25.632150Z"
    }
   },
   "cell_type": "code",
   "source": [
    "x = np.array([1,2,3,4,5,6,7,8,9,10])\n",
    "y = np.array([1,2,3,4,5,6,7,8,9,10])\n",
    "z = [x,y]\n",
    "\n",
    "print([b[0] for b in z])"
   ],
   "outputs": [
    {
     "name": "stdout",
     "output_type": "stream",
     "text": [
      "[1, 1]\n"
     ]
    }
   ],
   "execution_count": 2
  }
 ],
 "metadata": {
  "kernelspec": {
   "display_name": "Python 3",
   "language": "python",
   "name": "python3"
  },
  "language_info": {
   "codemirror_mode": {
    "name": "ipython",
    "version": 2
   },
   "file_extension": ".py",
   "mimetype": "text/x-python",
   "name": "python",
   "nbconvert_exporter": "python",
   "pygments_lexer": "ipython2",
   "version": "2.7.6"
  }
 },
 "nbformat": 4,
 "nbformat_minor": 0
}
