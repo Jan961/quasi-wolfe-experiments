{
 "cells": [
  {
   "cell_type": "code",
   "execution_count": 47,
   "metadata": {
    "collapsed": true
   },
   "outputs": [],
   "source": [
    "from math import factorial\n",
    "import numpy as np\n",
    "from itertools import combinations_with_replacement\n",
    "import time\n",
    "from grad_descent import grad_descent\n",
    "from function_generation.PolynomialGenerator import PolynomialGenerator\n",
    "from experiments.utils.generate_quadratics import generate_quadratic\n",
    "from experiments.utils.get_lipschitz import get_lipschitz\n",
    "from line_searches.Constant import Constant\n",
    "from line_searches.QuasiWolfe import QuasiWolfe\n",
    "from experiments.utils.miscellaneous import calculate_I2_intermediate\n",
    "\n"
   ]
  },
  {
   "cell_type": "code",
   "execution_count": 44,
   "outputs": [],
   "source": [
    "max_steps = 1000\n",
    "epsilons = 10 ** np.linspace(-0.5, -5, 20)\n",
    "repeats = 500\n",
    "dimensions =np.unique(np.floor(np.linspace(2, 20, 12, dtype=int))).astype(int)\n",
    "bounds =[-1,1]\n",
    "\n",
    "\n",
    "dim =20\n",
    "x0 = np.random.rand(dim)\n",
    "f,g,h = generate_quadratic(dim)\n",
    "l1 = np.max(np.abs(np.linalg.eigvals(h())))\n",
    "record_trace = True\n",
    "\n"
   ],
   "metadata": {
    "collapsed": false
   }
  },
  {
   "cell_type": "code",
   "execution_count": 43,
   "outputs": [
    {
     "name": "stdout",
     "output_type": "stream",
     "text": [
      " steps taken 86\n"
     ]
    }
   ],
   "source": [
    "# single run\n",
    "\n",
    "\n",
    "epsilon = 1e-6\n",
    "steps1, step_count_1, _, _, end1, gradients1, fvalues1 = grad_descent(f, g, x0, learning_rate = Constant(1/l1), epsilon=epsilon, termination_criteria=\"grad\",verbose=False, constraints=bounds, record_trace=record_trace, record_gradients=record_trace, record_objective_values=record_trace)\n",
    "print(f\" steps taken {step_count_1}\")\n",
    "# print(steps1)\n",
    "\n",
    "\n"
   ],
   "metadata": {
    "collapsed": false
   }
  },
  {
   "cell_type": "code",
   "execution_count": 160,
   "outputs": [
    {
     "name": "stdout",
     "output_type": "stream",
     "text": [
      "[ 22.  22.  22.  22.  23.  24.  25.  27.  32.  38.  45.  51.  57.  64.\n",
      "  70.  76.  83.  89.  95. 101.]\n",
      "I2: 0.6112292708267969\n"
     ]
    }
   ],
   "source": [
    "lipschitz = np.max(np.abs(np.linalg.eigvals(h())))\n",
    "\n",
    "max_steps = 1000\n",
    "epsilons = 10 ** np.linspace(-0.5, -5, 20)\n",
    "bounds =[-1,1]\n",
    "\n",
    "\n",
    "dim =20\n",
    "x0 = np.random.rand(dim)\n",
    "f,g,h = generate_quadratic(dim)\n",
    "l1 = np.max(np.abs(np.linalg.eigvals(h())))\n",
    "record_trace = True\n",
    "\n",
    "lr = Constant(1/l1)\n",
    "\n",
    "  # 0,       1           2               3          4   5            6\n",
    "# steps, step_count, f_calls_count, g_calls_count, x, gradients, objective_values\n",
    "\n",
    "counts = np.zeros(len(epsilons))\n",
    "\n",
    "for i,e in enumerate(epsilons):\n",
    "    res = grad_descent(f,g,x0,epsilon=e, record_trace=True, record_gradients=True,record_objective_values=True, learning_rate=lr, constraints=bounds, termination_criteria=\"grad\")\n",
    "    counts[i] = res[1]\n",
    "\n",
    "print(counts)\n",
    "\n",
    "# check I2\n",
    "\n",
    "I2 = calculate_I2_intermediate(counts, epsilons,max_steps)\n",
    "print(f\"I2: {I2}\")"
   ],
   "metadata": {
    "collapsed": false
   }
  }
 ],
 "metadata": {
  "kernelspec": {
   "display_name": "Python 3",
   "language": "python",
   "name": "python3"
  },
  "language_info": {
   "codemirror_mode": {
    "name": "ipython",
    "version": 2
   },
   "file_extension": ".py",
   "mimetype": "text/x-python",
   "name": "python",
   "nbconvert_exporter": "python",
   "pygments_lexer": "ipython2",
   "version": "2.7.6"
  }
 },
 "nbformat": 4,
 "nbformat_minor": 0
}
