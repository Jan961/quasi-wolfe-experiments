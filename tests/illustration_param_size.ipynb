{
 "cells": [
  {
   "cell_type": "code",
   "execution_count": 4,
   "metadata": {
    "collapsed": true
   },
   "outputs": [],
   "source": [
    "import numpy as np\n",
    "import matplotlib.pyplot as plt"
   ]
  },
  {
   "cell_type": "code",
   "execution_count": 10,
   "outputs": [],
   "source": [
    "labels = [\"AlexNet\", \"VGG16\", \"BERT\", \"GPT-2\", \"GPT-3\", \"ResNet50\", \"GPT-4\" ]\n",
    "values = [\"7-5\",\"8\",\"7-7\", \"9\",\"175*10^9\", \"7-1\", \"1.7*10^12\" ]\n",
    "release_dates = [2012, 2014, 2018, 2019, 2020,  2015, 2023, 2024]\n",
    "\n",
    "values_numbers = [6*10**7,10e8,8*10**7, 1*10**9, 175*10**9, 1.7*10**12, 2*10**7, 100*10**12]\n",
    "\n",
    "# Bernstein, Liane & Sludds, Alexander & Hamerly, Ryan & Sze, Vivienne & Emer, Joel & Englund, Dirk. (2021). Freely scalable and reconfigurable optical hardware for deep learning. Scientific Reports. 11. 10.1038/s41598-021-82543-3.\n",
    "\n",
    "\n",
    "# 1.7 trillion GPT-4 parameters\n",
    "\n",
    "# fruit fly  - 32 000 000 connections\n",
    "# https://www.ncbi.nlm.nih.gov/pmc/articles/PMC10402125/#:~:text=Repeating%20for%20all%20neuron%20pairs,2)%20(Figure%201a).\n",
    "\n",
    "\n",
    "\n",
    "\n",
    "#David GT Barrett, Ari S Morcos, Jakob H Macke,\n",
    "# Analyzing biological and artificial neural networks: challenges with opportunities for synergy?,\n",
    "# Current Opinion in Neurobiology,\n",
    "# Volume 55,\n",
    "# 2019,\n",
    "# Pages 55-64,\n",
    "# ISSN 0959-4388,\n",
    "# https://doi.org/10.1016/j.conb.2019.01.007.\n",
    "# (https://www.sciencedirect.com/science/article/pii/S0959438818301569)"
   ],
   "metadata": {
    "collapsed": false
   }
  },
  {
   "cell_type": "code",
   "execution_count": null,
   "outputs": [],
   "source": [
    "# 86 billion neurons form 100 trillion connections\n",
    "# A New Field of Neuroscience Aims to Map Connections in the Brain\n",
    "\n",
    "\n",
    "# metre cube box of sand - 70 billion\n",
    "# https://www.theguardian.com/lifeandstyle/2012/nov/02/ask-grownup-marcus-du-sautoy\n",
    "\n",
    "# number of hair on head - 100,000\n",
    "#https://www.scientificamerican.com/article/the-worlds-simplest-theorem-shows-that-8-000-people-globally-have-the-same-number-of-hairs-on-their-head/#:~:text=Depending%20on%20hair%20color%2C%20the,more%20than%20a%20million%20hairs.\n",
    "\n"
   ],
   "metadata": {
    "collapsed": false
   }
  },
  {
   "cell_type": "code",
   "execution_count": 11,
   "outputs": [
    {
     "data": {
      "text/plain": "<matplotlib.collections.PathCollection at 0x26ee0958a90>"
     },
     "execution_count": 11,
     "metadata": {},
     "output_type": "execute_result"
    },
    {
     "data": {
      "text/plain": "<Figure size 640x480 with 1 Axes>",
      "image/png": "[encoded data removed]"
     },
     "metadata": {},
     "output_type": "display_data"
    }
   ],
   "source": [
    "fig, ax = plt.subplots()\n",
    "ax.scatter(release_dates, values_numbers)"
   ],
   "metadata": {
    "collapsed": false
   }
  }
 ],
 "metadata": {
  "kernelspec": {
   "display_name": "Python 3",
   "language": "python",
   "name": "python3"
  },
  "language_info": {
   "codemirror_mode": {
    "name": "ipython",
    "version": 2
   },
   "file_extension": ".py",
   "mimetype": "text/x-python",
   "name": "python",
   "nbconvert_exporter": "python",
   "pygments_lexer": "ipython2",
   "version": "2.7.6"
  }
 },
 "nbformat": 4,
 "nbformat_minor": 0
}
