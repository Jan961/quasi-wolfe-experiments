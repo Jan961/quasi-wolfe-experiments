{
 "cells": [
  {
   "cell_type": "code",
   "execution_count": 50,
   "metadata": {
    "collapsed": true
   },
   "outputs": [],
   "source": [
    "from plotting.plot_2d import plot_grad_descent_2d\n",
    "from grad_descent_test import grad_descent_test\n",
    "from function_generation.PolynomialGenerator import PolynomialGenerator\n",
    "import numpy as np\n",
    "from line_searches.QuasiWolfeTest2 import QuasiWolfeTest2\n",
    "from line_searches.StrongWolfe import StrongWolfe\n",
    "from line_searches.Constant import Constant\n",
    "import matplotlib.pyplot as plt"
   ]
  },
  {
   "cell_type": "code",
   "execution_count": 51,
   "outputs": [],
   "source": [
    "dimensions = 2\n",
    "\n",
    "f,g, h = PolynomialGenerator().generate(dimensions,5)\n",
    "x0 = np.random.uniform(-1,1,(dimensions))"
   ],
   "metadata": {
    "collapsed": false
   }
  },
  {
   "cell_type": "code",
   "execution_count": 52,
   "outputs": [
    {
     "name": "stdout",
     "output_type": "stream",
     "text": [
      "found wolfe\n",
      " next_x [0.51200979 2.39881004] insed GD\n",
      " next_x clipped [0.51200979 1.        ] insed GD\n",
      "step 0 \n",
      "x: [-0.25048235  0.83588575]\n",
      " y: -0.1700771262328632 \n",
      "grad: [-1.19139398 -2.44206921] \n",
      "next_x: [0.51200979 1.        ]\n",
      " next_x [0.41582518 1.        ] insed GD\n",
      " next_x clipped [0.41582518 1.        ] insed GD\n",
      "step 1 \n",
      "x: [0.51200979 1.        ]\n",
      " y: -1.4452727986823726 \n",
      "grad: [0.48279848 0.        ] \n",
      "next_x: [0.41582518 1.        ]\n",
      " next_x [0.41583144 1.        ] insed GD\n",
      " next_x clipped [0.41583144 1.        ] insed GD\n",
      "step 2 \n",
      "x: [0.41582518 1.        ]\n",
      " y: -1.4680310719702556 \n",
      "grad: [-2.96161573e-05  0.00000000e+00] \n",
      "next_x: [0.41583144 1.        ]\n",
      " error in stage two \n",
      " next_x [0.41583144 1.        ] insed GD\n",
      " next_x clipped [0.41583144 1.        ] insed GD\n",
      "step 3 \n",
      "x: [0.41583144 1.        ]\n",
      " y: -1.468031072062949 \n",
      "grad: [-9.01982933e-11  0.00000000e+00] \n",
      "next_x: [0.41583144 1.        ]\n",
      " error in stage two \n",
      " next_x [0.41583144 1.        ] insed GD\n",
      " next_x clipped [0.41583144 1.        ] insed GD\n",
      "step 4 \n",
      "x: [0.41583144 1.        ]\n",
      " y: -1.468031072062949 \n",
      "grad: [-8.20514767e-11  0.00000000e+00] \n",
      "next_x: [0.41583144 1.        ]\n",
      " number of steps 4\n",
      " number of stage one tries [[-0.23856841  0.86030644]\n",
      " [-0.22665447  0.88472713]\n",
      " [-0.20282659  0.93356851]\n",
      " [-0.15517083  1.        ]\n",
      " [-0.05985932  1.        ]\n",
      " [ 0.13076372  1.        ]\n",
      " [ 0.51200979  1.        ]\n",
      " [ 0.50718181  1.        ]\n",
      " [ 0.50235382  1.        ]\n",
      " [ 0.49269785  1.        ]\n",
      " [ 0.47338592  1.        ]\n",
      " [ 0.43476204  1.        ]\n",
      " [ 0.35751428  1.        ]\n",
      " [ 0.41582547  1.        ]\n",
      " [ 0.41582577  1.        ]\n",
      " [ 0.41582636  1.        ]\n",
      " [ 0.41582755  1.        ]\n",
      " [ 0.41582992  1.        ]\n",
      " [ 0.41583466  1.        ]\n",
      " [ 0.41583144  1.        ]\n",
      " [ 0.41583144  1.        ]\n",
      " [ 0.41583144  1.        ]\n",
      " [ 0.41583144  1.        ]]\n",
      " number of stage two currents [[0.41582518 1.        ]\n",
      " [0.41583144 1.        ]\n",
      " [0.41583144 1.        ]\n",
      " [0.41583144 1.        ]\n",
      " [0.41583144 1.        ]\n",
      " [0.41583144 1.        ]\n",
      " [0.41583144 1.        ]\n",
      " [0.41583144 1.        ]\n",
      " [0.41583144 1.        ]\n",
      " [0.41583144 1.        ]\n",
      " [0.41583144 1.        ]\n",
      " [0.41583144 1.        ]\n",
      " [0.41583144 1.        ]\n",
      " [0.41583144 1.        ]\n",
      " [0.41583144 1.        ]\n",
      " [0.41583144 1.        ]\n",
      " [0.41583144 1.        ]\n",
      " [0.41583144 1.        ]\n",
      " [0.41583144 1.        ]\n",
      " [0.41583144 1.        ]\n",
      " [0.41583144 1.        ]\n",
      " [0.41583144 1.        ]]\n",
      " number of brackets 4\n"
     ]
    }
   ],
   "source": [
    "\n",
    "quasi_wolfe_ls = QuasiWolfeTest2(alpha0=0.4, eta_w=0.1)\n",
    "wolfe_ls = StrongWolfe(alpha0=1)\n",
    "\n",
    "constraints = [-1,1]\n",
    "# print(constraints)\n",
    "#\n",
    "res = grad_descent_test(f,g,x0,learning_rate=QuasiWolfeTest2(), termination_criteria='x star',record_trace=True, constraints=constraints, max_steps=4, x_star=np.array([0,0]), verbose=True)\n",
    "\n",
    "print(f\" number of steps {res[1]}\")\n",
    "print(f\" number of stage one tries {res[5]}\")\n",
    "print(f\" number of stage two currents {res[6]}\")\n",
    "print(f\" number of brackets {len(res[7])}\")\n"
   ],
   "metadata": {
    "collapsed": false
   }
  },
  {
   "cell_type": "code",
   "execution_count": 53,
   "outputs": [
    {
     "name": "stdout",
     "output_type": "stream",
     "text": [
      " x [-0.25048235  0.83588575], next_x, [0.51200979 1.        ] grad [-1.19139398 -2.44206921], alpha 0.64, step count 0\n",
      " x [0.51200979 1.        ], next_x, [0.41582518 1.        ] grad [0.48279848 0.        ], alpha 0.19922311147708804, step count 1\n",
      " x [0.41582518 1.        ], next_x, [0.41583144 1.        ] grad [-2.96161573e-05  0.00000000e+00], alpha 0.21135819690071211, step count 2\n",
      " x [0.41583144 1.        ], next_x, [0.41583144 1.        ] grad [-9.01982933e-11  0.00000000e+00], alpha 0.019090131409917617, step count 3\n",
      " x [0.41583144 1.        ], next_x, [0.41583144 1.        ] grad [-8.20514767e-11  0.00000000e+00], alpha 0.019090131060545183, step count 4\n"
     ]
    }
   ],
   "source": [
    "for params in res[-1]:\n",
    "    print(f\" x {params[0]}, next_x, {params[1]} grad {params[2]}, alpha {params[3]}, step count {params[4]}\")"
   ],
   "metadata": {
    "collapsed": false
   }
  },
  {
   "cell_type": "code",
   "execution_count": 54,
   "outputs": [
    {
     "name": "stdout",
     "output_type": "stream",
     "text": [
      "[ 0.56677606 -1.00000001]\n"
     ]
    }
   ],
   "source": [
    "print(np.array([0.32801201, 0.1962417 ])- 1.2929607978227242*np.array([-0.18466457 , 0.92519565]))"
   ],
   "metadata": {
    "collapsed": false
   }
  },
  {
   "cell_type": "code",
   "execution_count": 55,
   "outputs": [
    {
     "name": "stdout",
     "output_type": "stream",
     "text": [
      " number of brackets 4\n",
      "[[[0.43476204 1.        ]\n",
      "  [0.35751428 1.        ]]\n",
      "\n",
      " [[0.41582992 1.        ]\n",
      "  [0.41583466 1.        ]]\n",
      "\n",
      " [[0.41583144 1.        ]\n",
      "  [0.41583144 1.        ]]\n",
      "\n",
      " [[0.41583144 1.        ]\n",
      "  [0.41583144 1.        ]]]\n"
     ]
    }
   ],
   "source": [
    "print(f\" number of brackets {len(res[7])}\")\n",
    "print(res[7])\n"
   ],
   "metadata": {
    "collapsed": false
   }
  },
  {
   "cell_type": "code",
   "execution_count": 56,
   "outputs": [
    {
     "name": "stdout",
     "output_type": "stream",
     "text": [
      " steps [[-0.25048235  0.83588575]\n",
      " [ 0.51200979  1.        ]\n",
      " [ 0.41582518  1.        ]\n",
      " [ 0.41583144  1.        ]\n",
      " [ 0.41583144  1.        ]]\n"
     ]
    }
   ],
   "source": [
    "print(f\" steps {res[0]}\")"
   ],
   "metadata": {
    "collapsed": false
   }
  },
  {
   "cell_type": "code",
   "execution_count": 57,
   "outputs": [
    {
     "name": "stdout",
     "output_type": "stream",
     "text": [
      "[[0.43476204 1.        ]\n",
      " [0.35751428 1.        ]]\n"
     ]
    }
   ],
   "source": [
    "print(res[7][0])"
   ],
   "metadata": {
    "collapsed": false
   }
  },
  {
   "cell_type": "code",
   "execution_count": 57,
   "outputs": [],
   "source": [],
   "metadata": {
    "collapsed": false
   }
  },
  {
   "cell_type": "code",
   "execution_count": 58,
   "outputs": [
    {
     "name": "stdout",
     "output_type": "stream",
     "text": [
      " number of steps 4\n"
     ]
    },
    {
     "data": {
      "text/plain": "Text(0, 0.5, 'y')"
     },
     "execution_count": 58,
     "metadata": {},
     "output_type": "execute_result"
    },
    {
     "data": {
      "text/plain": "<Figure size 640x480 with 2 Axes>",
      "image/png": "[encoded data removed]"
     },
     "metadata": {},
     "output_type": "display_data"
    }
   ],
   "source": [
    "# plot the steps and tries of gradient descent\n",
    "bounds =[-1,1]\n",
    "margin = 0.5\n",
    "samples_per_side = 100\n",
    "levels = 30\n",
    "\n",
    "steps = res[0]\n",
    "print(f\" number of steps {res[1]}\")\n",
    "stage_one_tries = res[5]\n",
    "stage_two_currents = res[6]\n",
    "stage_two_brackets = res[7][0]\n",
    "\n",
    "\n",
    "st =1\n",
    "sot = 1\n",
    "stc = 0\n",
    "stb = 1\n",
    "bracket_id1 = 0\n",
    "bracket_id2 = 1\n",
    "\n",
    "\n",
    "\n",
    "bounds_x = bounds\n",
    "bounds_y = bounds\n",
    "\n",
    "x = np.linspace(bounds_x[0] - margin, bounds_x[1] + margin, samples_per_side)\n",
    "y = np.linspace(bounds_y[0] - margin, bounds_y[1] + margin, samples_per_side)\n",
    "\n",
    "# create a matplotlip contour plot of the function around its minimum\n",
    "xv, yv = np.meshgrid(x, y)\n",
    "stacked = np.stack((xv, yv), axis=2)\n",
    "ys = np.apply_along_axis(f, 2, stacked)\n",
    "fig, axes = plt.subplots()\n",
    "\n",
    "plt.hlines(np.array([bounds_y[0], bounds_y[1]]), xmin=(bounds_x[0]), xmax=bounds_x[1],\n",
    "           linestyles='dashed')\n",
    "plt.vlines(np.array([bounds_x[0], bounds_x[1]]), ymin=(bounds_y[0]), ymax=bounds_y[1],\n",
    "           linestyles='dashed')\n",
    "# plt.hlines(np.array([1]), xmin=(-0.78654493), xmax=-0.23811257,\n",
    "#            linestyles='dashed', colors='orange')\n",
    "\n",
    "contours = axes.contourf(x, y, ys, levels)\n",
    "fig.colorbar(contours, ax=axes, orientation='vertical',\n",
    "             location='right', shrink=1)\n",
    "if st:\n",
    "    axes.plot(steps[:, 0], steps[:, 1], 'ro')\n",
    "    axes.plot(steps[:, 0], steps[:, 1], 'r--')\n",
    "\n",
    "    axes.plot(steps[:, 0], steps[:, 1], 'ro')\n",
    "    axes.plot(steps[:, 0], steps[:, 1], 'r--')\n",
    "\n",
    "\n",
    "if sot:\n",
    "    axes.scatter(stage_one_tries[:, 0], stage_one_tries[:, 1], c='black', zorder=10)\n",
    "    # axes.plot(stage_one_tries[:, 0], stage_one_tries[:, 1], 'black --')\n",
    "\n",
    "if stc:\n",
    "    axes.scatter(stage_two_currents[:, 0], stage_two_currents[:, 1], c='orange', zorder=10, marker='|')\n",
    "    # axes.plot(stage_two_currents[:, 0], stage_two_currents[:, 1], 'green --')\n",
    "\n",
    "if stb:\n",
    "    # axes.plot(stage_two_brackets[bracket_id][:, 0], stage_two_brackets[bracket_id][:, 1], c='green', ls='--')\n",
    "    axes.scatter(stage_two_brackets[bracket_id1][ 0], stage_two_brackets[bracket_id1][ 1],\n",
    "                 c='orange', marker='_', zorder=20, s=300, lw=3)\n",
    "    axes.scatter(stage_two_brackets[bracket_id2][0], stage_two_brackets[bracket_id2][1],\n",
    "                 c='orange', marker='_', zorder=20, s=300, lw=3)\n",
    "\n",
    "# axes.scatter([ 0.56677606], [-1.00000001], c='orange', zorder=20)\n",
    "axes.set_xlabel('x')\n",
    "axes.set_ylabel('y')\n",
    "\n"
   ],
   "metadata": {
    "collapsed": false
   }
  },
  {
   "cell_type": "code",
   "execution_count": 59,
   "outputs": [],
   "source": [
    "# print(stage_two_brackets[bracket_id][:, 0])"
   ],
   "metadata": {
    "collapsed": false
   }
  },
  {
   "cell_type": "code",
   "execution_count": 60,
   "outputs": [
    {
     "name": "stdout",
     "output_type": "stream",
     "text": [
      "[-0.25048235  0.83588575]\n"
     ]
    }
   ],
   "source": [
    "print(x0)"
   ],
   "metadata": {
    "collapsed": false
   }
  },
  {
   "cell_type": "code",
   "execution_count": 60,
   "outputs": [],
   "source": [],
   "metadata": {
    "collapsed": false
   }
  }
 ],
 "metadata": {
  "kernelspec": {
   "display_name": "Python 3",
   "language": "python",
   "name": "python3"
  },
  "language_info": {
   "codemirror_mode": {
    "name": "ipython",
    "version": 2
   },
   "file_extension": ".py",
   "mimetype": "text/x-python",
   "name": "python",
   "nbconvert_exporter": "python",
   "pygments_lexer": "ipython2",
   "version": "2.7.6"
  }
 },
 "nbformat": 4,
 "nbformat_minor": 0
}
